{
 "cells": [
  {
   "cell_type": "code",
   "execution_count": 2,
   "metadata": {},
   "outputs": [
    {
     "name": "stdout",
     "output_type": "stream",
     "text": [
      "cells\n"
     ]
    }
   ],
   "source": [
    "import sys; sys.path.insert(0, '/cs/usr/nomoriel/PycharmProjects/trajectory_reconstruction_tradeoff')\n",
    "\n",
    "import os\n",
    "import glob\n",
    "import pandas as pd\n",
    "import numpy as np\n",
    "import matplotlib.pyplot as plt\n",
    "\n",
    "import trajectory_reconstruction_tradeoff as T\n",
    "import random\n",
    "import scanpy as sc\n",
    "import altair as alt\n",
    "from altair_saver import save\n",
    "\n",
    "random.seed(20)\n",
    "dirname = '/cs/usr/nomoriel/PycharmProjects/trajectory_reconstruction_tradeoff/output/datasets/'\n",
    "outdir = '/cs/usr/nomoriel/PycharmProjects/trajectory_reconstruction_tradeoff/output/results/' \n",
    "\n",
    "datasets = [\n",
    "    # 'dendritic',\n",
    "    'hayashi',\n",
    "    'hepatoblast',\n",
    "    'fibroblasts', \n",
    "    'hematopoiesis'\n",
    "    ]\n",
    "\n",
    "# colors = ['blue', 'darkred', 'maroon', 'brown', 'firebrick', 'indianred', 'lightcoral', ]\n",
    "\n",
    "\n",
    "# read trajectories\n",
    "trajs = {}\n",
    "\n",
    "# doing this for a single trajectory\n",
    "for dataset in datasets:\n",
    "    X, D, meta = T.io.read_dataset(dataset, dirname)\n",
    "    trajs[dataset] = T.tr.Trajectory(X, meta=meta)\n",
    "\n",
    "\n",
    "Pvar = np.round(0.01 * 2 ** np.arange(0, 6.7, 0.34), 3)\n",
    "# Pvar = np.round(0.03 * 2 ** np.arange(0, 5, 0.3), 2)\n",
    "Pconst = np.ones_like(Pvar)\n",
    "repeats = 50\n",
    "\n",
    "\n",
    "B=-1\n",
    "\n",
    "Pc = Pvar; Pt = Pconst; sub_desc = 'cells'\n",
    "# Pc = Pconst; Pt = Pvar; sub_desc = 'reads'\n",
    "\n",
    "print(sub_desc)"
   ]
  },
  {
   "cell_type": "code",
   "execution_count": 5,
   "metadata": {},
   "outputs": [
    {
     "data": {
      "text/plain": [
       "0      hayashi\n",
       "1      hayashi\n",
       "2      hayashi\n",
       "3      hayashi\n",
       "4      hayashi\n",
       "        ...   \n",
       "795    hayashi\n",
       "796    hayashi\n",
       "797    hayashi\n",
       "798    hayashi\n",
       "799    hayashi\n",
       "Name: trajectory type, Length: 800, dtype: object"
      ]
     },
     "execution_count": 5,
     "metadata": {},
     "output_type": "execute_result"
    }
   ],
   "source": []
  },
  {
   "cell_type": "code",
   "execution_count": 3,
   "metadata": {},
   "outputs": [
    {
     "name": "stdout",
     "output_type": "stream",
     "text": [
      "hayashi\n"
     ]
    },
    {
     "ename": "OSError",
     "evalue": "[Errno 5] Input/output error",
     "output_type": "error",
     "traceback": [
      "\u001b[0;31m---------------------------------------------------------------------------\u001b[0m",
      "\u001b[0;31mOSError\u001b[0m                                   Traceback (most recent call last)",
      "\u001b[1;32m/cs/usr/nomoriel/PycharmProjects/trajectory_reconstruction_tradeoff/notebooks/fig3-separate.ipynb Cell 2'\u001b[0m in \u001b[0;36m<cell line: 1>\u001b[0;34m()\u001b[0m\n\u001b[1;32m      <a href='vscode-notebook-cell://ssh-remote%2Bribo-02.cs.huji.ac.il/cs/usr/nomoriel/PycharmProjects/trajectory_reconstruction_tradeoff/notebooks/fig3-separate.ipynb#ch0000001vscode-remote?line=2'>3</a>\u001b[0m L_separate \u001b[39m=\u001b[39m traj\u001b[39m.\u001b[39mcompute_tradeoff(B\u001b[39m=\u001b[39mB, Pc\u001b[39m=\u001b[39mPc, Pt\u001b[39m=\u001b[39mPt, repeats\u001b[39m=\u001b[39mrepeats, comp_deltas\u001b[39m=\u001b[39m\u001b[39mTrue\u001b[39;00m)\n\u001b[1;32m      <a href='vscode-notebook-cell://ssh-remote%2Bribo-02.cs.huji.ac.il/cs/usr/nomoriel/PycharmProjects/trajectory_reconstruction_tradeoff/notebooks/fig3-separate.ipynb#ch0000001vscode-remote?line=4'>5</a>\u001b[0m L_separate[\u001b[39m'\u001b[39m\u001b[39mtrajectory type\u001b[39m\u001b[39m'\u001b[39m] \u001b[39m=\u001b[39m traj_name\n\u001b[0;32m----> <a href='vscode-notebook-cell://ssh-remote%2Bribo-02.cs.huji.ac.il/cs/usr/nomoriel/PycharmProjects/trajectory_reconstruction_tradeoff/notebooks/fig3-separate.ipynb#ch0000001vscode-remote?line=6'>7</a>\u001b[0m L_separate\u001b[39m.\u001b[39;49mto_csv(os\u001b[39m.\u001b[39;49mpath\u001b[39m.\u001b[39;49mjoin(outdir, \u001b[39mf\u001b[39;49m\u001b[39m'\u001b[39;49m\u001b[39m{\u001b[39;49;00mtraj_name\u001b[39m}\u001b[39;49;00m\u001b[39m_L_\u001b[39;49m\u001b[39m{\u001b[39;49;00msub_desc\u001b[39m}\u001b[39;49;00m\u001b[39m.csv\u001b[39;49m\u001b[39m'\u001b[39;49m))\n\u001b[1;32m      <a href='vscode-notebook-cell://ssh-remote%2Bribo-02.cs.huji.ac.il/cs/usr/nomoriel/PycharmProjects/trajectory_reconstruction_tradeoff/notebooks/fig3-separate.ipynb#ch0000001vscode-remote?line=7'>8</a>\u001b[0m \u001b[39mprint\u001b[39m(L_separate\u001b[39m.\u001b[39mshape)\n",
      "File \u001b[0;32m~/miniconda3/envs/traj/lib/python3.8/site-packages/pandas/core/generic.py:3551\u001b[0m, in \u001b[0;36mNDFrame.to_csv\u001b[0;34m(self, path_or_buf, sep, na_rep, float_format, columns, header, index, index_label, mode, encoding, compression, quoting, quotechar, line_terminator, chunksize, date_format, doublequote, escapechar, decimal, errors, storage_options)\u001b[0m\n\u001b[1;32m   <a href='file:///cs/usr/nomoriel/miniconda3/envs/traj/lib/python3.8/site-packages/pandas/core/generic.py?line=3539'>3540</a>\u001b[0m df \u001b[39m=\u001b[39m \u001b[39mself\u001b[39m \u001b[39mif\u001b[39;00m \u001b[39misinstance\u001b[39m(\u001b[39mself\u001b[39m, ABCDataFrame) \u001b[39melse\u001b[39;00m \u001b[39mself\u001b[39m\u001b[39m.\u001b[39mto_frame()\n\u001b[1;32m   <a href='file:///cs/usr/nomoriel/miniconda3/envs/traj/lib/python3.8/site-packages/pandas/core/generic.py?line=3541'>3542</a>\u001b[0m formatter \u001b[39m=\u001b[39m DataFrameFormatter(\n\u001b[1;32m   <a href='file:///cs/usr/nomoriel/miniconda3/envs/traj/lib/python3.8/site-packages/pandas/core/generic.py?line=3542'>3543</a>\u001b[0m     frame\u001b[39m=\u001b[39mdf,\n\u001b[1;32m   <a href='file:///cs/usr/nomoriel/miniconda3/envs/traj/lib/python3.8/site-packages/pandas/core/generic.py?line=3543'>3544</a>\u001b[0m     header\u001b[39m=\u001b[39mheader,\n\u001b[0;32m   (...)\u001b[0m\n\u001b[1;32m   <a href='file:///cs/usr/nomoriel/miniconda3/envs/traj/lib/python3.8/site-packages/pandas/core/generic.py?line=3547'>3548</a>\u001b[0m     decimal\u001b[39m=\u001b[39mdecimal,\n\u001b[1;32m   <a href='file:///cs/usr/nomoriel/miniconda3/envs/traj/lib/python3.8/site-packages/pandas/core/generic.py?line=3548'>3549</a>\u001b[0m )\n\u001b[0;32m-> <a href='file:///cs/usr/nomoriel/miniconda3/envs/traj/lib/python3.8/site-packages/pandas/core/generic.py?line=3550'>3551</a>\u001b[0m \u001b[39mreturn\u001b[39;00m DataFrameRenderer(formatter)\u001b[39m.\u001b[39;49mto_csv(\n\u001b[1;32m   <a href='file:///cs/usr/nomoriel/miniconda3/envs/traj/lib/python3.8/site-packages/pandas/core/generic.py?line=3551'>3552</a>\u001b[0m     path_or_buf,\n\u001b[1;32m   <a href='file:///cs/usr/nomoriel/miniconda3/envs/traj/lib/python3.8/site-packages/pandas/core/generic.py?line=3552'>3553</a>\u001b[0m     line_terminator\u001b[39m=\u001b[39;49mline_terminator,\n\u001b[1;32m   <a href='file:///cs/usr/nomoriel/miniconda3/envs/traj/lib/python3.8/site-packages/pandas/core/generic.py?line=3553'>3554</a>\u001b[0m     sep\u001b[39m=\u001b[39;49msep,\n\u001b[1;32m   <a href='file:///cs/usr/nomoriel/miniconda3/envs/traj/lib/python3.8/site-packages/pandas/core/generic.py?line=3554'>3555</a>\u001b[0m     encoding\u001b[39m=\u001b[39;49mencoding,\n\u001b[1;32m   <a href='file:///cs/usr/nomoriel/miniconda3/envs/traj/lib/python3.8/site-packages/pandas/core/generic.py?line=3555'>3556</a>\u001b[0m     errors\u001b[39m=\u001b[39;49merrors,\n\u001b[1;32m   <a href='file:///cs/usr/nomoriel/miniconda3/envs/traj/lib/python3.8/site-packages/pandas/core/generic.py?line=3556'>3557</a>\u001b[0m     compression\u001b[39m=\u001b[39;49mcompression,\n\u001b[1;32m   <a href='file:///cs/usr/nomoriel/miniconda3/envs/traj/lib/python3.8/site-packages/pandas/core/generic.py?line=3557'>3558</a>\u001b[0m     quoting\u001b[39m=\u001b[39;49mquoting,\n\u001b[1;32m   <a href='file:///cs/usr/nomoriel/miniconda3/envs/traj/lib/python3.8/site-packages/pandas/core/generic.py?line=3558'>3559</a>\u001b[0m     columns\u001b[39m=\u001b[39;49mcolumns,\n\u001b[1;32m   <a href='file:///cs/usr/nomoriel/miniconda3/envs/traj/lib/python3.8/site-packages/pandas/core/generic.py?line=3559'>3560</a>\u001b[0m     index_label\u001b[39m=\u001b[39;49mindex_label,\n\u001b[1;32m   <a href='file:///cs/usr/nomoriel/miniconda3/envs/traj/lib/python3.8/site-packages/pandas/core/generic.py?line=3560'>3561</a>\u001b[0m     mode\u001b[39m=\u001b[39;49mmode,\n\u001b[1;32m   <a href='file:///cs/usr/nomoriel/miniconda3/envs/traj/lib/python3.8/site-packages/pandas/core/generic.py?line=3561'>3562</a>\u001b[0m     chunksize\u001b[39m=\u001b[39;49mchunksize,\n\u001b[1;32m   <a href='file:///cs/usr/nomoriel/miniconda3/envs/traj/lib/python3.8/site-packages/pandas/core/generic.py?line=3562'>3563</a>\u001b[0m     quotechar\u001b[39m=\u001b[39;49mquotechar,\n\u001b[1;32m   <a href='file:///cs/usr/nomoriel/miniconda3/envs/traj/lib/python3.8/site-packages/pandas/core/generic.py?line=3563'>3564</a>\u001b[0m     date_format\u001b[39m=\u001b[39;49mdate_format,\n\u001b[1;32m   <a href='file:///cs/usr/nomoriel/miniconda3/envs/traj/lib/python3.8/site-packages/pandas/core/generic.py?line=3564'>3565</a>\u001b[0m     doublequote\u001b[39m=\u001b[39;49mdoublequote,\n\u001b[1;32m   <a href='file:///cs/usr/nomoriel/miniconda3/envs/traj/lib/python3.8/site-packages/pandas/core/generic.py?line=3565'>3566</a>\u001b[0m     escapechar\u001b[39m=\u001b[39;49mescapechar,\n\u001b[1;32m   <a href='file:///cs/usr/nomoriel/miniconda3/envs/traj/lib/python3.8/site-packages/pandas/core/generic.py?line=3566'>3567</a>\u001b[0m     storage_options\u001b[39m=\u001b[39;49mstorage_options,\n\u001b[1;32m   <a href='file:///cs/usr/nomoriel/miniconda3/envs/traj/lib/python3.8/site-packages/pandas/core/generic.py?line=3567'>3568</a>\u001b[0m )\n",
      "File \u001b[0;32m~/miniconda3/envs/traj/lib/python3.8/site-packages/pandas/io/formats/format.py:1180\u001b[0m, in \u001b[0;36mDataFrameRenderer.to_csv\u001b[0;34m(self, path_or_buf, encoding, sep, columns, index_label, mode, compression, quoting, quotechar, line_terminator, chunksize, date_format, doublequote, escapechar, errors, storage_options)\u001b[0m\n\u001b[1;32m   <a href='file:///cs/usr/nomoriel/miniconda3/envs/traj/lib/python3.8/site-packages/pandas/io/formats/format.py?line=1158'>1159</a>\u001b[0m     created_buffer \u001b[39m=\u001b[39m \u001b[39mFalse\u001b[39;00m\n\u001b[1;32m   <a href='file:///cs/usr/nomoriel/miniconda3/envs/traj/lib/python3.8/site-packages/pandas/io/formats/format.py?line=1160'>1161</a>\u001b[0m csv_formatter \u001b[39m=\u001b[39m CSVFormatter(\n\u001b[1;32m   <a href='file:///cs/usr/nomoriel/miniconda3/envs/traj/lib/python3.8/site-packages/pandas/io/formats/format.py?line=1161'>1162</a>\u001b[0m     path_or_buf\u001b[39m=\u001b[39mpath_or_buf,\n\u001b[1;32m   <a href='file:///cs/usr/nomoriel/miniconda3/envs/traj/lib/python3.8/site-packages/pandas/io/formats/format.py?line=1162'>1163</a>\u001b[0m     line_terminator\u001b[39m=\u001b[39mline_terminator,\n\u001b[0;32m   (...)\u001b[0m\n\u001b[1;32m   <a href='file:///cs/usr/nomoriel/miniconda3/envs/traj/lib/python3.8/site-packages/pandas/io/formats/format.py?line=1177'>1178</a>\u001b[0m     formatter\u001b[39m=\u001b[39m\u001b[39mself\u001b[39m\u001b[39m.\u001b[39mfmt,\n\u001b[1;32m   <a href='file:///cs/usr/nomoriel/miniconda3/envs/traj/lib/python3.8/site-packages/pandas/io/formats/format.py?line=1178'>1179</a>\u001b[0m )\n\u001b[0;32m-> <a href='file:///cs/usr/nomoriel/miniconda3/envs/traj/lib/python3.8/site-packages/pandas/io/formats/format.py?line=1179'>1180</a>\u001b[0m csv_formatter\u001b[39m.\u001b[39;49msave()\n\u001b[1;32m   <a href='file:///cs/usr/nomoriel/miniconda3/envs/traj/lib/python3.8/site-packages/pandas/io/formats/format.py?line=1181'>1182</a>\u001b[0m \u001b[39mif\u001b[39;00m created_buffer:\n\u001b[1;32m   <a href='file:///cs/usr/nomoriel/miniconda3/envs/traj/lib/python3.8/site-packages/pandas/io/formats/format.py?line=1182'>1183</a>\u001b[0m     \u001b[39massert\u001b[39;00m \u001b[39misinstance\u001b[39m(path_or_buf, StringIO)\n",
      "File \u001b[0;32m~/miniconda3/envs/traj/lib/python3.8/site-packages/pandas/io/formats/csvs.py:261\u001b[0m, in \u001b[0;36mCSVFormatter.save\u001b[0;34m(self)\u001b[0m\n\u001b[1;32m    <a href='file:///cs/usr/nomoriel/miniconda3/envs/traj/lib/python3.8/site-packages/pandas/io/formats/csvs.py?line=240'>241</a>\u001b[0m \u001b[39mwith\u001b[39;00m get_handle(\n\u001b[1;32m    <a href='file:///cs/usr/nomoriel/miniconda3/envs/traj/lib/python3.8/site-packages/pandas/io/formats/csvs.py?line=241'>242</a>\u001b[0m     \u001b[39mself\u001b[39m\u001b[39m.\u001b[39mfilepath_or_buffer,\n\u001b[1;32m    <a href='file:///cs/usr/nomoriel/miniconda3/envs/traj/lib/python3.8/site-packages/pandas/io/formats/csvs.py?line=242'>243</a>\u001b[0m     \u001b[39mself\u001b[39m\u001b[39m.\u001b[39mmode,\n\u001b[0;32m   (...)\u001b[0m\n\u001b[1;32m    <a href='file:///cs/usr/nomoriel/miniconda3/envs/traj/lib/python3.8/site-packages/pandas/io/formats/csvs.py?line=248'>249</a>\u001b[0m \n\u001b[1;32m    <a href='file:///cs/usr/nomoriel/miniconda3/envs/traj/lib/python3.8/site-packages/pandas/io/formats/csvs.py?line=249'>250</a>\u001b[0m     \u001b[39m# Note: self.encoding is irrelevant here\u001b[39;00m\n\u001b[1;32m    <a href='file:///cs/usr/nomoriel/miniconda3/envs/traj/lib/python3.8/site-packages/pandas/io/formats/csvs.py?line=250'>251</a>\u001b[0m     \u001b[39mself\u001b[39m\u001b[39m.\u001b[39mwriter \u001b[39m=\u001b[39m csvlib\u001b[39m.\u001b[39mwriter(\n\u001b[1;32m    <a href='file:///cs/usr/nomoriel/miniconda3/envs/traj/lib/python3.8/site-packages/pandas/io/formats/csvs.py?line=251'>252</a>\u001b[0m         handles\u001b[39m.\u001b[39mhandle,\n\u001b[1;32m    <a href='file:///cs/usr/nomoriel/miniconda3/envs/traj/lib/python3.8/site-packages/pandas/io/formats/csvs.py?line=252'>253</a>\u001b[0m         lineterminator\u001b[39m=\u001b[39m\u001b[39mself\u001b[39m\u001b[39m.\u001b[39mline_terminator,\n\u001b[0;32m   (...)\u001b[0m\n\u001b[1;32m    <a href='file:///cs/usr/nomoriel/miniconda3/envs/traj/lib/python3.8/site-packages/pandas/io/formats/csvs.py?line=257'>258</a>\u001b[0m         quotechar\u001b[39m=\u001b[39m\u001b[39mself\u001b[39m\u001b[39m.\u001b[39mquotechar,\n\u001b[1;32m    <a href='file:///cs/usr/nomoriel/miniconda3/envs/traj/lib/python3.8/site-packages/pandas/io/formats/csvs.py?line=258'>259</a>\u001b[0m     )\n\u001b[0;32m--> <a href='file:///cs/usr/nomoriel/miniconda3/envs/traj/lib/python3.8/site-packages/pandas/io/formats/csvs.py?line=260'>261</a>\u001b[0m     \u001b[39mself\u001b[39;49m\u001b[39m.\u001b[39;49m_save()\n",
      "File \u001b[0;32m~/miniconda3/envs/traj/lib/python3.8/site-packages/pandas/io/formats/csvs.py:266\u001b[0m, in \u001b[0;36mCSVFormatter._save\u001b[0;34m(self)\u001b[0m\n\u001b[1;32m    <a href='file:///cs/usr/nomoriel/miniconda3/envs/traj/lib/python3.8/site-packages/pandas/io/formats/csvs.py?line=263'>264</a>\u001b[0m \u001b[39mif\u001b[39;00m \u001b[39mself\u001b[39m\u001b[39m.\u001b[39m_need_to_save_header:\n\u001b[1;32m    <a href='file:///cs/usr/nomoriel/miniconda3/envs/traj/lib/python3.8/site-packages/pandas/io/formats/csvs.py?line=264'>265</a>\u001b[0m     \u001b[39mself\u001b[39m\u001b[39m.\u001b[39m_save_header()\n\u001b[0;32m--> <a href='file:///cs/usr/nomoriel/miniconda3/envs/traj/lib/python3.8/site-packages/pandas/io/formats/csvs.py?line=265'>266</a>\u001b[0m \u001b[39mself\u001b[39;49m\u001b[39m.\u001b[39;49m_save_body()\n",
      "File \u001b[0;32m~/miniconda3/envs/traj/lib/python3.8/site-packages/pandas/io/formats/csvs.py:304\u001b[0m, in \u001b[0;36mCSVFormatter._save_body\u001b[0;34m(self)\u001b[0m\n\u001b[1;32m    <a href='file:///cs/usr/nomoriel/miniconda3/envs/traj/lib/python3.8/site-packages/pandas/io/formats/csvs.py?line=301'>302</a>\u001b[0m \u001b[39mif\u001b[39;00m start_i \u001b[39m>\u001b[39m\u001b[39m=\u001b[39m end_i:\n\u001b[1;32m    <a href='file:///cs/usr/nomoriel/miniconda3/envs/traj/lib/python3.8/site-packages/pandas/io/formats/csvs.py?line=302'>303</a>\u001b[0m     \u001b[39mbreak\u001b[39;00m\n\u001b[0;32m--> <a href='file:///cs/usr/nomoriel/miniconda3/envs/traj/lib/python3.8/site-packages/pandas/io/formats/csvs.py?line=303'>304</a>\u001b[0m \u001b[39mself\u001b[39;49m\u001b[39m.\u001b[39;49m_save_chunk(start_i, end_i)\n",
      "File \u001b[0;32m~/miniconda3/envs/traj/lib/python3.8/site-packages/pandas/io/formats/csvs.py:315\u001b[0m, in \u001b[0;36mCSVFormatter._save_chunk\u001b[0;34m(self, start_i, end_i)\u001b[0m\n\u001b[1;32m    <a href='file:///cs/usr/nomoriel/miniconda3/envs/traj/lib/python3.8/site-packages/pandas/io/formats/csvs.py?line=311'>312</a>\u001b[0m data \u001b[39m=\u001b[39m [res\u001b[39m.\u001b[39miget_values(i) \u001b[39mfor\u001b[39;00m i \u001b[39min\u001b[39;00m \u001b[39mrange\u001b[39m(\u001b[39mlen\u001b[39m(res\u001b[39m.\u001b[39mitems))]\n\u001b[1;32m    <a href='file:///cs/usr/nomoriel/miniconda3/envs/traj/lib/python3.8/site-packages/pandas/io/formats/csvs.py?line=313'>314</a>\u001b[0m ix \u001b[39m=\u001b[39m \u001b[39mself\u001b[39m\u001b[39m.\u001b[39mdata_index[slicer]\u001b[39m.\u001b[39m_format_native_types(\u001b[39m*\u001b[39m\u001b[39m*\u001b[39m\u001b[39mself\u001b[39m\u001b[39m.\u001b[39m_number_format)\n\u001b[0;32m--> <a href='file:///cs/usr/nomoriel/miniconda3/envs/traj/lib/python3.8/site-packages/pandas/io/formats/csvs.py?line=314'>315</a>\u001b[0m libwriters\u001b[39m.\u001b[39;49mwrite_csv_rows(\n\u001b[1;32m    <a href='file:///cs/usr/nomoriel/miniconda3/envs/traj/lib/python3.8/site-packages/pandas/io/formats/csvs.py?line=315'>316</a>\u001b[0m     data,\n\u001b[1;32m    <a href='file:///cs/usr/nomoriel/miniconda3/envs/traj/lib/python3.8/site-packages/pandas/io/formats/csvs.py?line=316'>317</a>\u001b[0m     ix,\n\u001b[1;32m    <a href='file:///cs/usr/nomoriel/miniconda3/envs/traj/lib/python3.8/site-packages/pandas/io/formats/csvs.py?line=317'>318</a>\u001b[0m     \u001b[39mself\u001b[39;49m\u001b[39m.\u001b[39;49mnlevels,\n\u001b[1;32m    <a href='file:///cs/usr/nomoriel/miniconda3/envs/traj/lib/python3.8/site-packages/pandas/io/formats/csvs.py?line=318'>319</a>\u001b[0m     \u001b[39mself\u001b[39;49m\u001b[39m.\u001b[39;49mcols,\n\u001b[1;32m    <a href='file:///cs/usr/nomoriel/miniconda3/envs/traj/lib/python3.8/site-packages/pandas/io/formats/csvs.py?line=319'>320</a>\u001b[0m     \u001b[39mself\u001b[39;49m\u001b[39m.\u001b[39;49mwriter,\n\u001b[1;32m    <a href='file:///cs/usr/nomoriel/miniconda3/envs/traj/lib/python3.8/site-packages/pandas/io/formats/csvs.py?line=320'>321</a>\u001b[0m )\n",
      "File \u001b[0;32m~/miniconda3/envs/traj/lib/python3.8/site-packages/pandas/_libs/writers.pyx:55\u001b[0m, in \u001b[0;36mpandas._libs.writers.write_csv_rows\u001b[0;34m()\u001b[0m\n",
      "\u001b[0;31mOSError\u001b[0m: [Errno 5] Input/output error"
     ]
    }
   ],
   "source": [
    "for traj_name, traj in trajs.items():\n",
    "    print(traj_name)\n",
    "    L_separate = traj.compute_tradeoff(B=B, Pc=Pc, Pt=Pt, repeats=repeats, comp_deltas=True)\n",
    "\n",
    "    L_separate['trajectory type'] = traj_name\n",
    "\n",
    "    L_separate.to_csv(os.path.join(outdir, f'{traj_name}_L_{sub_desc}.csv'))\n",
    "    print(L_separate.shape)\n"
   ]
  },
  {
   "cell_type": "code",
   "execution_count": 10,
   "metadata": {},
   "outputs": [],
   "source": [
    "outdir = '/cs/labs/mornitzan/nomoriel/trajectory_reconstruction_tradeoff/output'\n",
    "fname = os.path.join(outdir, f'{traj_name}_L_{sub_desc}.csv')"
   ]
  },
  {
   "cell_type": "code",
   "execution_count": 11,
   "metadata": {},
   "outputs": [],
   "source": [
    "L_separate.to_csv(fname)"
   ]
  }
 ],
 "metadata": {
  "interpreter": {
   "hash": "71559dfa87d2af88018b34dbc5c7c092cff27358491bfc1ff3a6bb76c2f74f72"
  },
  "kernelspec": {
   "display_name": "Python 3.8.12 ('traj')",
   "language": "python",
   "name": "python3"
  },
  "language_info": {
   "codemirror_mode": {
    "name": "ipython",
    "version": 3
   },
   "file_extension": ".py",
   "mimetype": "text/x-python",
   "name": "python",
   "nbconvert_exporter": "python",
   "pygments_lexer": "ipython3",
   "version": "3.8.12"
  },
  "orig_nbformat": 4
 },
 "nbformat": 4,
 "nbformat_minor": 2
}
