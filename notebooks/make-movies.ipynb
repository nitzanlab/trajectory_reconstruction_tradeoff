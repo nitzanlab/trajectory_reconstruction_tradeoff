{
 "cells": [
  {
   "cell_type": "code",
   "execution_count": 1,
   "metadata": {},
   "outputs": [],
   "source": [
    "import os\n",
    "import scanpy as sc\n",
    "import pandas as pd\n",
    "import numpy as np\n",
    "import seaborn as sns\n",
    "import matplotlib.pyplot as plt\n",
    "import sys; sys.path.insert(0, '..')\n",
    "import trajectory_reconstruction_tradeoff as T"
   ]
  },
  {
   "cell_type": "code",
   "execution_count": 2,
   "metadata": {},
   "outputs": [],
   "source": [
    "dirname = '../'\n",
    "datadir = os.path.join(dirname, 'datasets')\n",
    "outdir = os.path.join(dirname, 'output' )\n"
   ]
  },
  {
   "cell_type": "code",
   "execution_count": 3,
   "metadata": {},
   "outputs": [],
   "source": [
    "# d = 8\n",
    "# dataset = 'bending_map%d' % d\n",
    "\n",
    "# nc = 1000\n",
    "# X = T.io.bending_map(nc=nc, d=d)\n",
    "# traj = T.tr.Trajectory(X=X, do_original_locs=True, do_preprocess=False)\n",
    "# T.pl.plot_pca2d(traj.pX)\n",
    "# adata = sc.AnnData(X)\n",
    "# adata.write_h5ad(os.path.join(datadir, f'{dataset}.h5ad'))"
   ]
  },
  {
   "cell_type": "code",
   "execution_count": 27,
   "metadata": {},
   "outputs": [
    {
     "name": "stderr",
     "output_type": "stream",
     "text": [
      "/Users/nomo/PycharmProjects/trajectory_reconstruction_tradeoff/notebooks/../trajectory_reconstruction_tradeoff/trajectory/trajectory.py:143: FutureWarning: X.dtype being converted to np.float32 from int64. In the next version of anndata (0.9) conversion will not be automatic. Pass dtype explicitly to avoid this warning. Pass `AnnData(X, dtype=X.dtype, ...)` to get the future behavour.\n",
      "  adata = sc.AnnData(self.X)\n"
     ]
    },
    {
     "data": {
      "image/png": "[encoded data removed]",
      "text/plain": [
       "<Figure size 432x432 with 1 Axes>"
      ]
     },
     "metadata": {
      "needs_background": "light"
     },
     "output_type": "display_data"
    }
   ],
   "source": [
    "# read trajectory\n",
    "by_hvgs = True\n",
    "\n",
    "dataset = 'hayashi' #'hematopoiesis'#  #'hayashi' # 'linear_rep0' #'hematopoiesis' #  #'fibroblasts'#'hepatoblast' #\n",
    "X,_, meta = T.io.read_dataset(dataset, datadir)\n",
    "traj = T.tr.Trajectory(X, meta=meta, by_hvgs=by_hvgs)\n",
    "T.pl.plot_pca2d(traj.pX)\n",
    "\n",
    "# pt = 1e-3\n",
    "# L = traj.compute_tradeoff(B=-1, Pc=[0.5], Pt=[1], repeats=1)\n",
    "# sX, psX, psD, sD, psP, ix,pca = traj.subsample(pc=1, pt=pt)\n",
    "# T.pl.plot_pca2d(psX)\n"
   ]
  },
  {
   "cell_type": "code",
   "execution_count": 32,
   "metadata": {},
   "outputs": [
    {
     "ename": "KeyError",
     "evalue": "(0, 0)",
     "output_type": "error",
     "traceback": [
      "\u001b[0;31m---------------------------------------------------------------------------\u001b[0m",
      "\u001b[0;31mKeyError\u001b[0m                                  Traceback (most recent call last)",
      "\u001b[0;32m~/opt/miniconda3/envs/traj/lib/python3.8/site-packages/pandas/core/indexes/base.py\u001b[0m in \u001b[0;36mget_loc\u001b[0;34m(self, key, method, tolerance)\u001b[0m\n\u001b[1;32m   3620\u001b[0m             \u001b[0;32mtry\u001b[0m\u001b[0;34m:\u001b[0m\u001b[0;34m\u001b[0m\u001b[0;34m\u001b[0m\u001b[0m\n\u001b[0;32m-> 3621\u001b[0;31m                 \u001b[0;32mreturn\u001b[0m \u001b[0mself\u001b[0m\u001b[0;34m.\u001b[0m\u001b[0m_engine\u001b[0m\u001b[0;34m.\u001b[0m\u001b[0mget_loc\u001b[0m\u001b[0;34m(\u001b[0m\u001b[0mcasted_key\u001b[0m\u001b[0;34m)\u001b[0m\u001b[0;34m\u001b[0m\u001b[0;34m\u001b[0m\u001b[0m\n\u001b[0m\u001b[1;32m   3622\u001b[0m             \u001b[0;32mexcept\u001b[0m \u001b[0mKeyError\u001b[0m \u001b[0;32mas\u001b[0m \u001b[0merr\u001b[0m\u001b[0;34m:\u001b[0m\u001b[0;34m\u001b[0m\u001b[0;34m\u001b[0m\u001b[0m\n",
      "\u001b[0;32m~/opt/miniconda3/envs/traj/lib/python3.8/site-packages/pandas/_libs/index.pyx\u001b[0m in \u001b[0;36mpandas._libs.index.IndexEngine.get_loc\u001b[0;34m()\u001b[0m\n",
      "\u001b[0;32m~/opt/miniconda3/envs/traj/lib/python3.8/site-packages/pandas/_libs/index.pyx\u001b[0m in \u001b[0;36mpandas._libs.index.IndexEngine.get_loc\u001b[0;34m()\u001b[0m\n",
      "\u001b[0;32mpandas/_libs/hashtable_class_helper.pxi\u001b[0m in \u001b[0;36mpandas._libs.hashtable.PyObjectHashTable.get_item\u001b[0;34m()\u001b[0m\n",
      "\u001b[0;32mpandas/_libs/hashtable_class_helper.pxi\u001b[0m in \u001b[0;36mpandas._libs.hashtable.PyObjectHashTable.get_item\u001b[0;34m()\u001b[0m\n",
      "\u001b[0;31mKeyError\u001b[0m: (0, 0)",
      "\nThe above exception was the direct cause of the following exception:\n",
      "\u001b[0;31mKeyError\u001b[0m                                  Traceback (most recent call last)",
      "\u001b[0;32m/var/folders/8y/cpqrd46n7ml80f139vjz9l240000gn/T/ipykernel_15060/616526937.py\u001b[0m in \u001b[0;36m<module>\u001b[0;34m\u001b[0m\n\u001b[0;32m----> 1\u001b[0;31m \u001b[0mplot_spring_layout\u001b[0m\u001b[0;34m(\u001b[0m\u001b[0mtraj\u001b[0m\u001b[0;34m.\u001b[0m\u001b[0mpX\u001b[0m\u001b[0;34m)\u001b[0m\u001b[0;34m\u001b[0m\u001b[0;34m\u001b[0m\u001b[0m\n\u001b[0m",
      "\u001b[0;32m/var/folders/8y/cpqrd46n7ml80f139vjz9l240000gn/T/ipykernel_15060/2467041333.py\u001b[0m in \u001b[0;36mplot_spring_layout\u001b[0;34m(pX, neighbors, width_scale, verbose)\u001b[0m\n\u001b[1;32m     14\u001b[0m     \u001b[0mpos\u001b[0m \u001b[0;34m=\u001b[0m \u001b[0;34m{\u001b[0m\u001b[0;34m}\u001b[0m\u001b[0;34m\u001b[0m\u001b[0;34m\u001b[0m\u001b[0m\n\u001b[1;32m     15\u001b[0m     \u001b[0;32mfor\u001b[0m \u001b[0minode\u001b[0m\u001b[0;34m,\u001b[0m\u001b[0mnode\u001b[0m \u001b[0;32min\u001b[0m \u001b[0menumerate\u001b[0m\u001b[0;34m(\u001b[0m\u001b[0mG\u001b[0m\u001b[0;34m.\u001b[0m\u001b[0mnodes\u001b[0m\u001b[0;34m(\u001b[0m\u001b[0;34m)\u001b[0m\u001b[0;34m)\u001b[0m\u001b[0;34m:\u001b[0m\u001b[0;34m\u001b[0m\u001b[0;34m\u001b[0m\u001b[0m\n\u001b[0;32m---> 16\u001b[0;31m         \u001b[0mpos\u001b[0m\u001b[0;34m[\u001b[0m\u001b[0mnode\u001b[0m\u001b[0;34m]\u001b[0m \u001b[0;34m=\u001b[0m \u001b[0;34m[\u001b[0m\u001b[0mpX\u001b[0m\u001b[0;34m[\u001b[0m\u001b[0minode\u001b[0m\u001b[0;34m,\u001b[0m\u001b[0;36m0\u001b[0m\u001b[0;34m]\u001b[0m\u001b[0;34m,\u001b[0m \u001b[0mpX\u001b[0m\u001b[0;34m[\u001b[0m\u001b[0minode\u001b[0m\u001b[0;34m,\u001b[0m\u001b[0;36m1\u001b[0m\u001b[0;34m]\u001b[0m\u001b[0;34m]\u001b[0m\u001b[0;34m\u001b[0m\u001b[0;34m\u001b[0m\u001b[0m\n\u001b[0m\u001b[1;32m     17\u001b[0m     \u001b[0mnx\u001b[0m\u001b[0;34m.\u001b[0m\u001b[0mdraw\u001b[0m\u001b[0;34m(\u001b[0m\u001b[0mG\u001b[0m\u001b[0;34m,\u001b[0m\u001b[0mpos\u001b[0m\u001b[0;34m,\u001b[0m \u001b[0mwidth\u001b[0m\u001b[0;34m=\u001b[0m\u001b[0medge_weight\u001b[0m\u001b[0;34m,\u001b[0m \u001b[0mnode_size\u001b[0m\u001b[0;34m=\u001b[0m\u001b[0;36m3\u001b[0m\u001b[0;34m)\u001b[0m\u001b[0;34m\u001b[0m\u001b[0;34m\u001b[0m\u001b[0m\n\u001b[1;32m     18\u001b[0m     \u001b[0mplt\u001b[0m\u001b[0;34m.\u001b[0m\u001b[0mshow\u001b[0m\u001b[0;34m(\u001b[0m\u001b[0;34m)\u001b[0m\u001b[0;34m\u001b[0m\u001b[0;34m\u001b[0m\u001b[0m\n",
      "\u001b[0;32m~/opt/miniconda3/envs/traj/lib/python3.8/site-packages/pandas/core/frame.py\u001b[0m in \u001b[0;36m__getitem__\u001b[0;34m(self, key)\u001b[0m\n\u001b[1;32m   3503\u001b[0m             \u001b[0;32mif\u001b[0m \u001b[0mself\u001b[0m\u001b[0;34m.\u001b[0m\u001b[0mcolumns\u001b[0m\u001b[0;34m.\u001b[0m\u001b[0mnlevels\u001b[0m \u001b[0;34m>\u001b[0m \u001b[0;36m1\u001b[0m\u001b[0;34m:\u001b[0m\u001b[0;34m\u001b[0m\u001b[0;34m\u001b[0m\u001b[0m\n\u001b[1;32m   3504\u001b[0m                 \u001b[0;32mreturn\u001b[0m \u001b[0mself\u001b[0m\u001b[0;34m.\u001b[0m\u001b[0m_getitem_multilevel\u001b[0m\u001b[0;34m(\u001b[0m\u001b[0mkey\u001b[0m\u001b[0;34m)\u001b[0m\u001b[0;34m\u001b[0m\u001b[0;34m\u001b[0m\u001b[0m\n\u001b[0;32m-> 3505\u001b[0;31m             \u001b[0mindexer\u001b[0m \u001b[0;34m=\u001b[0m \u001b[0mself\u001b[0m\u001b[0;34m.\u001b[0m\u001b[0mcolumns\u001b[0m\u001b[0;34m.\u001b[0m\u001b[0mget_loc\u001b[0m\u001b[0;34m(\u001b[0m\u001b[0mkey\u001b[0m\u001b[0;34m)\u001b[0m\u001b[0;34m\u001b[0m\u001b[0;34m\u001b[0m\u001b[0m\n\u001b[0m\u001b[1;32m   3506\u001b[0m             \u001b[0;32mif\u001b[0m \u001b[0mis_integer\u001b[0m\u001b[0;34m(\u001b[0m\u001b[0mindexer\u001b[0m\u001b[0;34m)\u001b[0m\u001b[0;34m:\u001b[0m\u001b[0;34m\u001b[0m\u001b[0;34m\u001b[0m\u001b[0m\n\u001b[1;32m   3507\u001b[0m                 \u001b[0mindexer\u001b[0m \u001b[0;34m=\u001b[0m \u001b[0;34m[\u001b[0m\u001b[0mindexer\u001b[0m\u001b[0;34m]\u001b[0m\u001b[0;34m\u001b[0m\u001b[0;34m\u001b[0m\u001b[0m\n",
      "\u001b[0;32m~/opt/miniconda3/envs/traj/lib/python3.8/site-packages/pandas/core/indexes/base.py\u001b[0m in \u001b[0;36mget_loc\u001b[0;34m(self, key, method, tolerance)\u001b[0m\n\u001b[1;32m   3621\u001b[0m                 \u001b[0;32mreturn\u001b[0m \u001b[0mself\u001b[0m\u001b[0;34m.\u001b[0m\u001b[0m_engine\u001b[0m\u001b[0;34m.\u001b[0m\u001b[0mget_loc\u001b[0m\u001b[0;34m(\u001b[0m\u001b[0mcasted_key\u001b[0m\u001b[0;34m)\u001b[0m\u001b[0;34m\u001b[0m\u001b[0;34m\u001b[0m\u001b[0m\n\u001b[1;32m   3622\u001b[0m             \u001b[0;32mexcept\u001b[0m \u001b[0mKeyError\u001b[0m \u001b[0;32mas\u001b[0m \u001b[0merr\u001b[0m\u001b[0;34m:\u001b[0m\u001b[0;34m\u001b[0m\u001b[0;34m\u001b[0m\u001b[0m\n\u001b[0;32m-> 3623\u001b[0;31m                 \u001b[0;32mraise\u001b[0m \u001b[0mKeyError\u001b[0m\u001b[0;34m(\u001b[0m\u001b[0mkey\u001b[0m\u001b[0;34m)\u001b[0m \u001b[0;32mfrom\u001b[0m \u001b[0merr\u001b[0m\u001b[0;34m\u001b[0m\u001b[0;34m\u001b[0m\u001b[0m\n\u001b[0m\u001b[1;32m   3624\u001b[0m             \u001b[0;32mexcept\u001b[0m \u001b[0mTypeError\u001b[0m\u001b[0;34m:\u001b[0m\u001b[0;34m\u001b[0m\u001b[0;34m\u001b[0m\u001b[0m\n\u001b[1;32m   3625\u001b[0m                 \u001b[0;31m# If we have a listlike key, _check_indexing_error will raise\u001b[0m\u001b[0;34m\u001b[0m\u001b[0;34m\u001b[0m\u001b[0;34m\u001b[0m\u001b[0m\n",
      "\u001b[0;31mKeyError\u001b[0m: (0, 0)"
     ]
    }
   ],
   "source": [
    "# T.pl.plot_spring_layout(traj.pX)"
   ]
  },
  {
   "cell_type": "code",
   "execution_count": 31,
   "metadata": {},
   "outputs": [],
   "source": []
  },
  {
   "cell_type": "code",
   "execution_count": 3,
   "metadata": {},
   "outputs": [],
   "source": [
    "# # nc = 400\n",
    "# # scale_noise = 30\n",
    "# # R = 100\n",
    "# # reverse_log1p = False\n",
    "# # frac_curve = 1\n",
    "# # p_in_k = 0.5\n",
    "# # dims = 100\n",
    "# # do_log1p = False\n",
    "# # do_preprocess = True\n",
    "\n",
    "# nc = 400\n",
    "# scale_noise = 0.1 # 2\n",
    "# R = 10\n",
    "# frac_curve = 1\n",
    "\n",
    "# # involve entire preprocessing procedure\n",
    "# dims = 100\n",
    "# do_preprocess=True\n",
    "# do_log1p = True\n",
    "# reverse_log1p = True\n",
    "\n",
    "# # # skip log/exp operations\n",
    "# # dims = 100\n",
    "# # do_preprocess=True\n",
    "# # do_log1p = False\n",
    "# # reverse_log1p = False\n",
    "# # # TODO: R is not recovered exactly \n",
    "\n",
    "\n",
    "# # # operate on latent space directly\n",
    "# # dims = 2\n",
    "# # do_preprocess=False\n",
    "# # do_log1p = False\n",
    "# # reverse_log1p = False\n",
    "\n",
    "\n",
    "# dataset = 'curve_simul'\n",
    "# X = T.io.curve_trajectory(nc=nc, frac_curve=frac_curve, R=R, scale_noise=scale_noise, dims=dims, reverse_log1p=reverse_log1p)\n",
    "\n",
    "# # dataset = 'curve_cluster_simul'\n",
    "# # pX = T.io.curve_clusters_trajectory(nc=nc, p_in_k=p_in_k, R=R, scale_noise=scale_noise, dims=dims)\n",
    "# traj = T.tr.Trajectory(X, do_preprocess=do_preprocess, do_log1p=do_log1p) # do_preprocess=False, do_original_locs=True\n",
    "# T.pl.plot_pca2d(traj.pX)"
   ]
  },
  {
   "cell_type": "code",
   "execution_count": 3,
   "metadata": {},
   "outputs": [
    {
     "name": "stdout",
     "output_type": "stream",
     "text": [
      "124.10493650258195\n",
      "107.67099363329638\n"
     ]
    }
   ],
   "source": [
    "dim1,dim2 = traj.pX.columns[[0,1]]\n",
    "dim1_range = traj.pX[dim1].max() - traj.pX[dim1].min()\n",
    "dim2_range = traj.pX[dim2].max() - traj.pX[dim2].min()\n",
    "print(dim1_range)\n",
    "print(dim2_range)\n",
    "R_emp = np.maximum(dim1_range/2, dim2_range/2)"
   ]
  },
  {
   "cell_type": "code",
   "execution_count": 4,
   "metadata": {},
   "outputs": [
    {
     "name": "stderr",
     "output_type": "stream",
     "text": [
      "/Users/nomo/opt/miniconda3/envs/traj/lib/python3.8/site-packages/seaborn/distributions.py:2619: FutureWarning: `distplot` is a deprecated function and will be removed in a future version. Please adapt your code to use either `displot` (a figure-level function with similar flexibility) or `histplot` (an axes-level function for histograms).\n",
      "  warnings.warn(msg, FutureWarning)\n",
      "/Users/nomo/opt/miniconda3/envs/traj/lib/python3.8/site-packages/seaborn/distributions.py:2619: FutureWarning: `distplot` is a deprecated function and will be removed in a future version. Please adapt your code to use either `displot` (a figure-level function with similar flexibility) or `histplot` (an axes-level function for histograms).\n",
      "  warnings.warn(msg, FutureWarning)\n"
     ]
    },
    {
     "data": {
      "text/plain": [
       "<AxesSubplot:ylabel='Density'>"
      ]
     },
     "execution_count": 4,
     "metadata": {},
     "output_type": "execute_result"
    },
    {
     "data": {
      "image/png": "[encoded data removed]",
      "text/plain": [
       "<Figure size 432x288 with 1 Axes>"
      ]
     },
     "metadata": {
      "needs_background": "light"
     },
     "output_type": "display_data"
    }
   ],
   "source": [
    "# examine original distance distribution\n",
    "kde = True\n",
    "sns.distplot(traj.D.flatten(), kde=kde, label='Distance distribution')\n",
    "\n",
    "nc = traj.ncells\n",
    "jump_len = np.pi * R_emp / nc\n",
    "D_pred = np.repeat(np.arange(0,nc,1), np.arange(nc,0,-1)) * jump_len\n",
    "sns.distplot(D_pred, kde=kde, label='Predicted')\n"
   ]
  },
  {
   "cell_type": "code",
   "execution_count": 7,
   "metadata": {},
   "outputs": [],
   "source": [
    "# for gcol in traj.X:\n",
    "#     cnts = traj.X[gcol].value_counts()\n",
    "#     if len(cnts) > 1:\n",
    "#         # print(cnts)\n",
    "#         print(gcol)"
   ]
  },
  {
   "cell_type": "code",
   "execution_count": 7,
   "metadata": {},
   "outputs": [
    {
     "data": {
      "text/plain": [
       "<matplotlib.legend.Legend at 0x7f956a701d90>"
      ]
     },
     "execution_count": 7,
     "metadata": {},
     "output_type": "execute_result"
    },
    {
     "data": {
      "image/png": "[encoded data removed]",
      "text/plain": [
       "<Figure size 720x360 with 2 Axes>"
      ]
     },
     "metadata": {
      "needs_background": "light"
     },
     "output_type": "display_data"
    }
   ],
   "source": [
    "# # read s\n",
    "# ones_like(Pt)\n",
    "\n",
    "# cell subsample\n",
    "Pc = np.round(0.03 * 2 ** np.arange(0, 5, 0.3), 2)#np.round(0.01 * 2 ** np.arange(0, 6.7, 0.34), 3) # np.round(0.03 * 2 ** np.arange(0, 5, 0.3), 2)\n",
    "# Pc = np.array(0.05)\n",
    "Pc = Pc[::4]\n",
    "Pc = Pc[Pc > 6/traj.ncells]\n",
    "# Pc = list(Pc) + [0.95]\n",
    "Pvar = Pc = Pc[::-1]\n",
    "Pt = Pconst = np.ones_like(Pvar)\n",
    "\n",
    "repeat = 1\n",
    "eps = 1e-6\n",
    "fig, ax = plt.subplots(1,2, figsize=(10,5))\n",
    "# sns.kdeplot(traj.D.flatten(), label='Distance distribution')\n",
    "for pt,pc in zip(Pt, Pc):\n",
    "    sX, psX, psD, sD, psP, ix, pca = traj.subsample(pc,pt)\n",
    "    # T.pl.plot_pca2d(psX)\n",
    "    # sns.kdeplot(psD.flatten(), label=f'Predicted pc: {pc}, pt: {pt}')\n",
    "    sns.kdeplot(psD.flatten()/(eps + sD.flatten()), label=f'Predicted pc: {pc}, pt: {pt}', ax=ax[0])\n",
    "    sns.kdeplot(sD.flatten()/(eps + psD.flatten()), label=f'Predicted pc: {pc}, pt: {pt}', ax=ax[1])\n",
    "\n",
    "ax[0].set_title('Distribution expansion')\n",
    "ax[1].set_title('Distribution contraction')\n",
    "plt.legend()"
   ]
  },
  {
   "cell_type": "code",
   "execution_count": 7,
   "metadata": {},
   "outputs": [
    {
     "name": "stderr",
     "output_type": "stream",
     "text": [
      "/var/folders/8y/cpqrd46n7ml80f139vjz9l240000gn/T/ipykernel_26791/946529675.py:3: FutureWarning: X.dtype being converted to np.float32 from float64. In the next version of anndata (0.9) conversion will not be automatic. Pass dtype explicitly to avoid this warning. Pass `AnnData(X, dtype=X.dtype, ...)` to get the future behavour.\n",
      "  adata = sc.AnnData(X)\n"
     ]
    }
   ],
   "source": [
    "# import scanpy as sc\n",
    "# X = T.io.curve_trajectory(nc=nc, frac_curve=frac_curve, R=R, scale_noise=scale_noise, dims=dims)\n",
    "# adata = sc.AnnData(X)\n",
    "# adata.write_h5ad(os.path.join(datadir, 'curve.h5ad'))"
   ]
  },
  {
   "cell_type": "code",
   "execution_count": 25,
   "metadata": {},
   "outputs": [],
   "source": [
    "# X = T.io.curve_trajectory(nc=nc, frac_curve=frac_curve, R=R, scale_noise=scale_noise, dims=dims)"
   ]
  },
  {
   "cell_type": "code",
   "execution_count": 23,
   "metadata": {},
   "outputs": [
    {
     "data": {
      "image/png": "[encoded data removed]",
      "text/plain": [
       "<Figure size 432x432 with 1 Axes>"
      ]
     },
     "metadata": {
      "needs_background": "light"
     },
     "output_type": "display_data"
    }
   ],
   "source": [
    "# # load trajectory\n",
    "# # X, D, meta = T.io.read_dataset('curve', datadir)\n",
    "# traj = T.tr.Trajectory(Y, meta=meta)\n",
    "# T.pl.plot_pca2d(traj.pX)"
   ]
  },
  {
   "cell_type": "code",
   "execution_count": null,
   "metadata": {},
   "outputs": [],
   "source": [
    "L = traj.compute_tradeoff(B=0.1, Pc=[0.5], Pt=[1], repeats=1, comp_deltas=True)"
   ]
  },
  {
   "cell_type": "code",
   "execution_count": null,
   "metadata": {},
   "outputs": [],
   "source": [
    "# T.pl.plot_pca2d(traj.pX.values)\n",
    "# T.pl.plot_pca2d(psX.values)"
   ]
  },
  {
   "cell_type": "markdown",
   "metadata": {},
   "source": [
    "## Read downsampling"
   ]
  },
  {
   "cell_type": "code",
   "execution_count": null,
   "metadata": {},
   "outputs": [],
   "source": [
    "## video pt\n",
    "Pt = Pvar = 10 ** np.arange(-6, -0.5, 0.25)\n",
    "Pc = np.ones_like(Pt)\n",
    "repeat = 2\n",
    "\n",
    "res_pt = []\n",
    "res_path_max_dist = {}\n",
    "for pt,pc in zip(Pt, Pc):\n",
    "    # for r in np.arange(repeat):\n",
    "    sX, psX, psD, sD, psP, ix = traj.subsample(pc,pt)\n",
    "\n",
    "    D, P = T.ds.get_pairwise_distances(psX, return_predecessors=True)\n",
    "\n",
    "    src,des = np.unravel_index(D.argmax(), D.shape)\n",
    "    path_max_dist = T.ds.get_path(src, des, P)\n",
    "    res_path_max_dist[pt] = path_max_dist\n",
    "    \n",
    "    df = psX[['PC1', 'PC2']]\n",
    "    df['pc'] = pc\n",
    "    df['pt'] = pt\n",
    "    df['idx_c'] = ix\n",
    "    df['idx'] = np.arange(len(ix))\n",
    "    # df['repeat'] = r\n",
    "    res_pt.append(df)"
   ]
  },
  {
   "cell_type": "code",
   "execution_count": null,
   "metadata": {},
   "outputs": [],
   "source": [
    "df_pt = pd.concat(res_pt)\n",
    "fname = os.path.join(outdir, f'{dataset}_pt.gif')\n",
    "T.pl.generate_gif(df_pt, frameby='pt', xcol='pc0', ycol='pc1', fname=fname)\n",
    "\n",
    "fname = os.path.join(outdir, f'{dataset}_pt_const_size.gif')\n",
    "T.pl.generate_gif(df_pt, frameby='pt', xcol='pc0', ycol='pc1', fname=fname, const_size=True)\n"
   ]
  },
  {
   "cell_type": "markdown",
   "metadata": {},
   "source": [
    "## Cell downsampling"
   ]
  },
  {
   "cell_type": "code",
   "execution_count": null,
   "metadata": {},
   "outputs": [],
   "source": [
    "%matplotlib inline\n",
    "## video pc\n",
    "Pc = np.round(0.03 * 2 ** np.arange(0, 5, 0.3), 2)#np.round(0.01 * 2 ** np.arange(0, 6.7, 0.34), 3) # np.round(0.03 * 2 ** np.arange(0, 5, 0.3), 2)\n",
    "# Pc = np.array(0.05)\n",
    "Pc = Pc[::4]\n",
    "Pvar = Pc = Pc[Pc > 6/traj.ncells]\n",
    "Pvar = Pc = list(Pc) + [0.95]\n",
    "Pt = Pconst = np.ones_like(Pvar)\n",
    "\n",
    "res_pc = []\n",
    "res_path_max_dist = {}\n",
    "res_nearest_neighbor = {}\n",
    "\n",
    "ncols = 3\n",
    "fig,ax = plt.subplots(1,ncols,figsize=(6*ncols,6))\n",
    "est_err_list = []\n",
    "for pt,pc in zip(Pt, Pc):\n",
    "    # sX, _, _, _, _, ix = traj.subsample(pc,pt)\n",
    "    sX, psX, psD, sD, psP, ix = traj.subsample(pc,pt)\n",
    "    \n",
    "    # ix[0] = 0\n",
    "    # sX.iloc[0] = traj.X.iloc[0]\n",
    "\n",
    "    # ix[-1] = traj.ncells - 2\n",
    "    # sX.iloc[-1] = traj.X.iloc[-1]\n",
    "\n",
    "    # psX = traj.preprocess(sX)\n",
    "\n",
    "    D, P = T.ds.get_pairwise_distances(psX, return_predecessors=True, verbose=True, plot=False)\n",
    "    \n",
    "    dmax_psD = np.max(psD); npsD = psD / dmax_psD\n",
    "    dmax_sD = np.max(sD); nsD = sD / dmax_sD\n",
    "\n",
    "    # compute error\n",
    "    l1, l2, l3, lsp = T.ds.compare_distances(npsD, nsD)\n",
    "    l_contrac = (sD / psD)[np.triu_indices_from(sD, 1)]\n",
    "    l_expand = (psD / sD)[np.triu_indices_from(sD, 1)]\n",
    "    l_distortion = np.mean(np.maximum(l_contrac,l_expand))\n",
    "    # lr = np.abs(nsD - npsD)[np.triu_indices_from(sD, 1)]\n",
    "    # sns.distplot(lr, label=pc, hist=False, ax=ax)\n",
    "\n",
    "    # plt.title(f'Ratio error d_S / d_G : {np.mean(lr)}')\n",
    "    # src = 0\n",
    "    # des = sX.shape[0]-1\n",
    "    src,des = np.unravel_index(D.argmax(), D.shape)\n",
    "    path_max_dist = get_path(src, des, P)\n",
    "    res_path_max_dist[pc] = path_max_dist\n",
    "    \n",
    "    df = psX.copy() #pd.DataFrame(psX[:,:2], columns=['pc0', 'pc1'])\n",
    "    df['pc'] = pc\n",
    "    df['pt'] = pt\n",
    "    df['idx_c'] = ix\n",
    "    df['idx'] = np.arange(len(ix))\n",
    "    df['l1'] = l1\n",
    "    res_pc.append(df)\n",
    "    # break\n",
    "    sns.distplot(nsD.flatten(), label=pc, hist=False, ax=ax[0])\n",
    "    \n",
    "    k = 5 # number of prosstt clusters\n",
    "    nk = int(pc * traj.ncells / k)\n",
    "    # nsD_pred = k * nk**2\n",
    "    nsD_pred = np.repeat(np.arange(k,-1,-1), np.arange(k+1) * nk**2)\n",
    "    nsD_pred = np.concatenate((nsD_pred, nsD_pred[:-k*nk**2]))\n",
    "    # nsD_pred = np.concatenate((nsD_pred, np.zeros(nk)))\n",
    "    sns.distplot(nsD_pred, label=pc, hist=False, ax=ax[1])\n",
    "\n",
    "    # plot error\n",
    "    bins = 5\n",
    "    lr = np.abs(nsD - npsD)#[np.triu_indices_from(sD, 1)]\n",
    "    tmp = pd.DataFrame({'org dists': nsD.flatten(), 'l1': lr.flatten()})\n",
    "    tmp['org dists cut'] = pd.cut(tmp['org dists'], bins=bins, labels=np.arange(bins))\n",
    "    avg_err = tmp.groupby('org dists cut')['l1'].mean()\n",
    "    ax[2].plot(avg_err.index, avg_err.values, label=pc)\n",
    "\n",
    "\n",
    "    # # estimate error per gap\n",
    "    # dmax0 = np.max(traj.D)\n",
    "    # R = 0.3\n",
    "    # dmax = dmax0 = np.pi * R\n",
    "    # alpha = pc * np.arange(k) / k * np.pi\n",
    "    # d0_per_hop = alpha * R\n",
    "    # d_per_hop = (1-alpha**2/(24*R**2))*alpha\n",
    "    # err_per_hop = np.abs(d0_per_hop/dmax0 - d_per_hop/dmax)\n",
    "    # ax[3].plot(avg_err.index, err_per_hop, label=pc)\n",
    "\n",
    "    # does quantizing work?\n",
    "    bins = 5\n",
    "    ind = np.triu_indices_from(sD, 1)\n",
    "    l_contrac = sD[ind] / psD[ind]\n",
    "    l_expand = psD[ind] / sD[ind]\n",
    "    lr = np.maximum(l_contrac,l_expand)\n",
    "    l_distortion = np.mean(np.maximum(l_contrac,l_expand))\n",
    "    \n",
    "\n",
    "    # lr = np.abs(nsD - npsD)#[np.triu_indices_from(sD, 1)]\n",
    "    emp_err = lr.mean()\n",
    "    print(f'Empirical error: {emp_err}')\n",
    "    tmp = pd.DataFrame({'org dists': nsD[ind], 'l1': lr})\n",
    "    # tmp = pd.DataFrame({'org dists': nsD.flatten(), 'l1': lr.flatten()})\n",
    "    tmp['org dists cut'] = pd.cut(tmp['org dists'], bins=bins, labels=np.arange(bins))\n",
    "    tmp_grp_err = tmp.groupby('org dists cut')['l1']\n",
    "    avg_err = pd.DataFrame(tmp_grp_err.mean())\n",
    "    avg_err['counts'] = tmp_grp_err.size()\n",
    "    quantized_err = (avg_err['l1'] * avg_err['counts']).sum() / sD.shape[0]**2\n",
    "    print(f'Quantized error: {quantized_err}')\n",
    "\n",
    "    # substituting just the distance distribution\n",
    "    avg_err['pred counts'] = pd.DataFrame(nsD_pred).groupby(0).size()\n",
    "    model_dist_err = (avg_err['l1'] * avg_err['pred counts']).sum() / sD.shape[0]**2\n",
    "    print(f'Error computed with modeled distance distribution: {model_dist_err}')\n",
    "    \n",
    "    est_err_list.append({'pc': pc, 'emp_err': emp_err, 'quantized_err':quantized_err, 'model_dist_err': model_dist_err,'distortion_err': l_distortion })\n",
    "\n",
    "\n",
    "plt.legend()\n",
    "plt.show()\n",
    "# plt.title(dataset)\n",
    "\n",
    "    # A = kneighbors_graph(psX, 8, mode='distance', metric='euclidean', include_self=True)\n",
    "    # G = nx.from_numpy_matrix(A.todense()>0)\n",
    "    # pos = nx.spring_layout(G)\n",
    "    # edge_weight = list(nx.get_edge_attributes(G,'weight').values())\n",
    "\n",
    "    # pos = {}\n",
    "    # for inode,node in enumerate(G.nodes()):\n",
    "    #     pos[node] = psX.iloc[inode].values\n",
    "    # nx.draw(G,pos, width=edge_weight, node_size=3)\n",
    "    # plt.show()\n",
    "df_pc = pd.concat(res_pc)"
   ]
  },
  {
   "cell_type": "code",
   "execution_count": null,
   "metadata": {},
   "outputs": [],
   "source": [
    "est_err = pd.DataFrame(est_err_list)\n",
    "est_err['log pc'] = np.log(est_err['pc'])\n",
    "fig,ax = plt.subplots(1,2,figsize=(12,6))\n",
    "ax[0].plot(est_err['pc'], est_err['emp_err']); ax[0].set_title('emp_err')\n",
    "ax[1].plot(est_err['pc'], est_err['distortion_err']); ax[1].set_title('distortion_err')\n",
    "# plt.plot(est_err['log pc'], est_err['quantized_err'])\n",
    "# plt.plot(est_err['log pc'], est_err['model_dist_err'])"
   ]
  },
  {
   "cell_type": "code",
   "execution_count": null,
   "metadata": {},
   "outputs": [],
   "source": [
    "# does quantizing work?\n",
    "bins = 5\n",
    "lr = np.abs(nsD - npsD)#[np.triu_indices_from(sD, 1)]\n",
    "print(f'Empirical error: {lr.mean()}')\n",
    "tmp = pd.DataFrame({'org dists': nsD.flatten(), 'l1': lr.flatten()})\n",
    "tmp['org dists cut'] = pd.cut(tmp['org dists'], bins=bins, labels=np.arange(bins))\n",
    "tmp_grp_err = tmp.groupby('org dists cut')['l1']\n",
    "avg_err = pd.DataFrame(tmp_grp_err.mean())\n",
    "avg_err['counts'] = tmp_grp_err.size()\n",
    "quantized_err = (avg_err['l1'] * avg_err['counts']).sum() / sD.shape[0]**2\n",
    "print(f'Quantized error: {quantized_err}')\n",
    "\n",
    "# substituting just the distance distribution\n",
    "avg_err['pred counts'] = pd.DataFrame(nsD_pred).groupby(0).size()\n",
    "model_dist_err = (avg_err['l1'] * avg_err['pred counts']).sum() / sD.shape[0]**2\n",
    "print(f'Error computed with modeled distance distribution: {model_dist_err}')\n"
   ]
  },
  {
   "cell_type": "code",
   "execution_count": null,
   "metadata": {},
   "outputs": [],
   "source": [
    "print(pd.DataFrame(nsD_pred)[0].value_counts())\n",
    "print(tmp['org dists cut'].value_counts())\n",
    "sns.distplot(nsD_pred / (nsD_pred.max()), label=pc, hist=False)\n",
    "sns.distplot(nsD, label=pc, hist=False)\n",
    "# sns.distplot(tmp['org dists cut'], label=pc, hist=False)"
   ]
  },
  {
   "cell_type": "code",
   "execution_count": null,
   "metadata": {},
   "outputs": [],
   "source": [
    "fig,ax = plt.subplots(1,2,figsize=(12,6))\n",
    "ax[0].hist(sD.flatten(), alpha=0.3, label='true distances')\n",
    "# ax[0].hist(psD.flatten(), alpha=0.3, label='subsample distances'); \n",
    "ax[0].set_title('Distance hists')\n",
    "\n",
    "ax[1].hist(nsD.flatten(), alpha=0.3, label='true distances')\n",
    "ax[1].hist(npsD.flatten(), alpha=0.3, label='subsample distances'); \n",
    "ax[1].set_title('Normalized distance hists')\n",
    "plt.legend()"
   ]
  },
  {
   "cell_type": "code",
   "execution_count": null,
   "metadata": {},
   "outputs": [],
   "source": [
    "fig,ax = plt.subplots(1,2,figsize=(12,6))\n",
    "ax[0].hist(sD.flatten(), alpha=0.3, label='true distances')\n",
    "# ax[0].hist(psD.flatten(), alpha=0.3, label='subsample distances'); \n",
    "ax[0].set_title('Distance hists')\n",
    "\n",
    "ax[1].hist(nsD.flatten(), alpha=0.3, label='true distances')\n",
    "ax[1].hist(npsD.flatten(), alpha=0.3, label='subsample distances'); \n",
    "ax[1].set_title('Normalized distance hists')\n",
    "plt.legend()"
   ]
  },
  {
   "cell_type": "code",
   "execution_count": null,
   "metadata": {},
   "outputs": [],
   "source": [
    "ix_sorted = np.argsort(ix)\n",
    "D0 = nsD[ix_sorted][:,ix_sorted]\n",
    "D1 = npsD[ix_sorted][:,ix_sorted]"
   ]
  },
  {
   "cell_type": "code",
   "execution_count": null,
   "metadata": {},
   "outputs": [],
   "source": [
    "fig,ax = plt.subplots(1,3, figsize=(6,12))\n",
    "thr = 0.3\n",
    "ax[0].imshow(D0); ax[0].set_title('True distances')\n",
    "ax[1].imshow(D1);ax[1].set_title('Subsampled distances')\n",
    "ax[2].imshow(D0 < thr); ax[2].set_title(f'True distances below {thr}')\n",
    "l1 = sum(sum(np.abs(np.array(D0) - np.array(D1)))) / len(D0) ** 2\n",
    "l1_mean = np.mean(np.abs(D0-D1))\n",
    "l1_mean_updiag = np.mean(np.abs(D0-D1)[np.triu_indices_from(D0, k=1)])\n",
    "# l1 = round(sum(sum(np.log(np.array(D0)/ np.array(D1)))) / len(D0) ** 2, 3)\n",
    "print(f'l1: {l1}, l1_mean: {l1_mean}, l1_mean_updiag: {l1_mean_updiag}')"
   ]
  },
  {
   "cell_type": "code",
   "execution_count": null,
   "metadata": {},
   "outputs": [],
   "source": [
    "tmp = pd.DataFrame({'D0': D0.flatten(), 'D1': D1.flatten()})\n",
    "tmp['D0mD1'] = tmp['D0'] - tmp['D1']\n",
    "tmp['abs D0mD1'] = tmp['D0mD1'].abs()\n",
    "tmp['D0overD1'] = tmp['D0'] / tmp['D1']\n",
    "tmp['log D0overD1'] = np.log(tmp['D0overD1'])\n",
    "tmp['abs D0overD1'] = tmp['log D0overD1'].abs()\n",
    "\n",
    "tmp['D0bin'] = pd.cut(tmp['D0'], bins=5)\n",
    "grp = tmp.groupby('D0bin').mean()\n",
    "xcol = 'D0'\n",
    "ycol = 'abs D0mD1'\n",
    "plt.plot(grp[xcol], grp[ycol])\n",
    "plt.xlabel(xcol)\n",
    "plt.ylabel(ycol)\n",
    "plt.title('Avg error per true distance range')"
   ]
  },
  {
   "cell_type": "code",
   "execution_count": null,
   "metadata": {},
   "outputs": [],
   "source": [
    "# # L2 = traj.compute_tradeoff(B=-1, Pc=Pc, Pt=Pt, repeats=20)\n",
    "# xcol = 'log pc'\n",
    "# ycol = 'l1'\n",
    "# fig,ax = plt.subplots(1, 1, figsize=(6,6))\n",
    "# T.pl.plot_tradeoff(L, xcol=xcol, xlabel=xcol, ycol=ycol, ylabel=ycol, ax=ax)\n",
    "# T.pl.plot_tradeoff(L2, xcol=xcol, xlabel=xcol, ycol=ycol, ylabel=ycol, ax=ax, color_mean='red', color_std='red')\n",
    "# # fig.savefig(f'{dataset}_pc_err.png')\n",
    "# # ax.set_ylim(0)"
   ]
  },
  {
   "cell_type": "code",
   "execution_count": null,
   "metadata": {},
   "outputs": [],
   "source": [
    "col0 = df.columns[0]\n",
    "col1 = df.columns[1]\n",
    "# xlim = (df_pc[col0].min(), df_pc[col0].max())\n",
    "# ylim = (df_pc[col1].min(), df_pc[col1].max())\n",
    "\n",
    "@gif.frame\n",
    "def plot(j):\n",
    "    i = len(Pt) - 1 - j\n",
    "    i = len(Pc) - 1 - j\n",
    "    sdf_pc = df_pc[(df_pc['pc'] == Pc[i])]\n",
    "    plt.scatter(sdf_pc[col0], sdf_pc[col1], c= sdf_pc['idx_c'], cmap='rainbow')\n",
    "    # plt.scatter(sdf_pc.iloc[[0,-1]][col0], sdf_pc.iloc[[0,-1]][col1], c='b')\n",
    "    \n",
    "    sdf_pc.index = sdf_pc['idx']\n",
    "    sdf = sdf_pc.loc[res_path_max_dist[Pc[i]]]\n",
    "    sdf['path_idx'] = np.arange(sdf.shape[0])\n",
    "    plt.plot(sdf[col0], sdf[col1], c='r')\n",
    "    plt.title(fr'log $p_c$={np.round(np.log(Pc[i]), 2)}')\n",
    "    plt.axis('off')\n",
    "    # plt.xlim(xlim)\n",
    "    # plt.ylim(ylim)\n",
    "    \n",
    "frames = []\n",
    "for j in range(len(Pc)):\n",
    "    frame = plot(j)\n",
    "    frames.append(frame)\n",
    "\n",
    "# gif.save(frames, f'{dataset}_pc_constant_size.gif', duration=10, unit=\"s\", between=\"startend\")\n",
    "gif.save(frames, f'{dataset}_pc.gif', duration=10, unit=\"s\", between=\"startend\")\n",
    "\n"
   ]
  },
  {
   "cell_type": "code",
   "execution_count": null,
   "metadata": {},
   "outputs": [],
   "source": [
    "# Pc = np.round(0.03 * 2 ** np.arange(0, 5, 0.3), 2)#np.round(0.01 * 2 ** np.arange(0, 6.7, 0.34), 3) # np.round(0.03 * 2 ** np.arange(0, 5, 0.3), 2)\n",
    "Pc = np.array([0.05, 0.1, 0.15])\n",
    "# Pc = Pc[::4]\n",
    "# Pvar = Pc = Pc[Pc > 6/traj.ncells]\n",
    "Pvar = Pc = list(Pc) + [0.95]\n",
    "Pt = Pconst = np.ones_like(Pvar)\n"
   ]
  },
  {
   "cell_type": "code",
   "execution_count": null,
   "metadata": {},
   "outputs": [],
   "source": [
    "# L = traj.compute_tradeoff(B=-1, Pc=Pc, Pt=Pt, repeats=3)\n",
    "# d = 4\n",
    "# L['pc inv pow'] = 1 / L['pc']**(1/d)\n",
    "xcol = 'log pc' #'pc' #'pc' #'pc inv pow'# 'log pc'\n",
    "ycol = 'ldist'\n",
    "fig,ax = plt.subplots(1, 1, figsize=(6,6))\n",
    "T.pl.plot_tradeoff(L, xcol=xcol, xlabel=xcol, ycol=ycol, ylabel=ycol, ax=ax);\n",
    "# fig.savefig(f'{dataset}_pc_err.png')\n",
    "# ax.set_ylim(0)"
   ]
  },
  {
   "cell_type": "code",
   "execution_count": null,
   "metadata": {},
   "outputs": [],
   "source": [
    "L['sqrt inv pc'] = np.sqrt(1/L['pc'])\n",
    "xcol = 'sqrt inv pc'\n",
    "T.pl.plot_tradeoff(L, xcol=xcol, xlabel=xcol, ycol=ycol, ylabel=ycol);"
   ]
  },
  {
   "cell_type": "code",
   "execution_count": null,
   "metadata": {},
   "outputs": [],
   "source": [
    "# np.round(0.01 * 2 ** np.arange(0, 6.7, 0.34), 3)\n",
    "# 10 ** np.linspace(-5, -1, 10)\n",
    "np.arange(0.03, 0.6, 0.01) #TEMP"
   ]
  },
  {
   "cell_type": "code",
   "execution_count": null,
   "metadata": {},
   "outputs": [],
   "source": [
    "# # L = traj.compute_tradeoff(B=-1, Pc=Pc, Pt=Pt, repeats=20)\n",
    "# xcol = 'pc inv to power'#'log pc'\n",
    "# ycol = 'l1'\n",
    "# # fig,ax = plt.subplots(1, 1, figsize=(6,6))\n",
    "# L[xcol] = (1 / L['nc'])**(1/2) \n",
    "# T.pl.plot_tradeoff(L, xcol=xcol, xlabel=xcol, ycol=ycol, ylabel=ycol, title='d=2');plt.show()\n",
    "# L[xcol] = (1 / L['nc'])**(1/20) \n",
    "# T.pl.plot_tradeoff(L, xcol=xcol, xlabel=xcol, ycol=ycol, ylabel=ycol, title='d=20'); \n",
    "# # fig.savefig(f'{dataset}_pc_err.png')\n",
    "# # ax.set_ylim(0)"
   ]
  },
  {
   "cell_type": "code",
   "execution_count": null,
   "metadata": {},
   "outputs": [],
   "source": [
    "for i in np.arange(2,10):\n",
    "    pc = 'PC%d' % i\n",
    "    T.pl.plot_pca2d(traj.pX[['PC1', pc]], traj.meta, color='milestone_id')\n",
    "    # plt.scatter(traj.pX[['PC1']], traj.pX[[pc]]); \n",
    "    # plt.xlabel('PC1')\n",
    "    # plt.ylabel(pc)\n",
    "    plt.show()"
   ]
  },
  {
   "cell_type": "code",
   "execution_count": null,
   "metadata": {},
   "outputs": [],
   "source": [
    "# fig.savefig(f'{dataset}_pc_err.png')"
   ]
  },
  {
   "cell_type": "code",
   "execution_count": null,
   "metadata": {},
   "outputs": [],
   "source": [
    "# kwargs0 = {'axis': alt.Axis(grid=False)}\n",
    "# kwargs1 = {'axis': alt.Axis(grid=False)}\n",
    "# kwargs0['scale'] = alt.Scale(domain=[df['pc0'].min(), df['pc0'].max()])\n",
    "# kwargs1['scale'] = alt.Scale(domain=[df['pc1'].min(), df['pc1'].max()])\n",
    "# kwargsc = {'width':800, 'height':400}\n",
    "                     \n",
    "    \n",
    "# def demo(j):\n",
    "#     i = len(Pc) - 1 - j\n",
    "#     sdf_pc = df_pc[(df_pc['pc'] == Pc[i])]\n",
    "#     pl_pt = alt.Chart(sdf_pc, **kwargsc).mark_circle().encode(x=alt.X('pc0:Q',**kwargs0), \n",
    "#                                                 y=alt.Y('pc1:Q',**kwargs1), \n",
    "#                                                 color=alt.Color('idx_c:O', \n",
    "#                                                                 legend=None, scale=alt.Scale(scheme='rainbow')))\n",
    "#     pl_pt0 = alt.Chart(sdf_pc.iloc[[0,-1]], **kwargsc).mark_circle().encode(x=alt.X('pc0:Q',**kwargs0), \n",
    "#                                                 y=alt.Y('pc1:Q',**kwargs1), \n",
    "#                                                 color=alt.value('black'))\n",
    "\n",
    "#     sdf_pc.index = sdf_pc['idx']\n",
    "#     sdf = sdf_pc.loc[res_path[Pc[i]]]\n",
    "#     sdf['path_idx'] = np.arange(sdf.shape[0])\n",
    "#     pl_path = alt.Chart(sdf, **kwargsc).mark_line().encode(x=alt.X('pc0:Q', **kwargs0), \n",
    "#                                                 y=alt.Y('pc1:Q', **kwargs1),\n",
    "#                                                 order='path_idx', color=alt.value('red'))\n",
    "#     return pl_pt + pl_pt0 +pl_path\n",
    "\n",
    "\n",
    "# interact(demo, j = widgets.Play(\n",
    "#     value=0,\n",
    "#     min=0,\n",
    "#     max=len(Pc)-1,\n",
    "#     step=1,\n",
    "#     description=\"Press play\",\n",
    "    \n",
    "#     disabled=False))\n",
    "\n",
    "# r = 10\n",
    "# nr = 10**np.linspace(1,3,50)\n",
    "# B = r * nr*np.log(nr)\n",
    "# nc = B/nr\n",
    "\n",
    "# plt.scatter(B, nc)"
   ]
  },
  {
   "cell_type": "markdown",
   "metadata": {},
   "source": [
    "## tradeoff"
   ]
  },
  {
   "cell_type": "code",
   "execution_count": null,
   "metadata": {},
   "outputs": [],
   "source": [
    "## video tradeoff\n",
    "B = 0.0016681005372\n",
    "Pc = Pvar = np.arange(0.03, 0.9, 0.03)\n",
    "\n",
    "\n",
    "res_tradeoff = []\n",
    "for pc in Pc:\n",
    "    # for r in np.arange(repeat):\n",
    "    pt = B/pc\n",
    "    sX, psX, psD, sD, psP, ix = traj.subsample(pc,pt)\n",
    "\n",
    "    df = pd.DataFrame(psX[:,:2], columns=['pc0', 'pc1'])\n",
    "    df['pc'] = pc\n",
    "    df['pt'] = pt\n",
    "    df['idx_c'] = ix\n",
    "    df['idx'] = np.arange(len(ix))\n",
    "    res_tradeoff.append(df)"
   ]
  },
  {
   "cell_type": "code",
   "execution_count": null,
   "metadata": {},
   "outputs": [],
   "source": [
    "df_tradeoff = pd.concat(res_tradeoff)\n",
    "os.path.join(f'{dataset}_tradeoff.gif')\n",
    "T.pl.generate_gif(df_tradeoff, frameby='pt', xcol='pc0', ycol='pc1', fname=fname)\n"
   ]
  }
 ],
 "metadata": {
  "kernelspec": {
   "display_name": "Python 3.8.12 ('traj')",
   "language": "python",
   "name": "python3"
  },
  "language_info": {
   "codemirror_mode": {
    "name": "ipython",
    "version": 3
   },
   "file_extension": ".py",
   "mimetype": "text/x-python",
   "name": "python",
   "nbconvert_exporter": "python",
   "pygments_lexer": "ipython3",
   "version": "3.8.12"
  },
  "orig_nbformat": 4,
  "vscode": {
   "interpreter": {
    "hash": "1c9b2e4677e68098979c6a61d65fe50c1065e2c0c6e35afd0e7ca755e6e23bd6"
   }
  }
 },
 "nbformat": 4,
 "nbformat_minor": 2
}
